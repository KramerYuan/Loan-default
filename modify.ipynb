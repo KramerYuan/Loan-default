{
 "cells": [
  {
   "cell_type": "code",
   "execution_count": 1,
   "metadata": {},
   "outputs": [],
   "source": [
    "# -*- coding: utf-8 -*-\n",
    "\n",
    "import pandas as pd\n",
    "import numpy as np\n",
    "import matplotlib.pyplot as plt\n",
    "import seaborn as sns\n",
    "import datetime\n",
    "from tqdm import tqdm\n",
    "from sklearn.preprocessing import LabelEncoder\n",
    "from sklearn.feature_selection import SelectKBest\n",
    "from sklearn.feature_selection import chi2\n",
    "from sklearn.preprocessing import MinMaxScaler\n",
    "import xgboost as xgb\n",
    "import lightgbm as lgb\n",
    "from catboost import CatBoostRegressor\n",
    "import warnings\n",
    "from sklearn.model_selection import StratifiedKFold, KFold\n",
    "from sklearn.metrics import accuracy_score, f1_score, roc_auc_score, log_loss\n",
    "warnings.filterwarnings('ignore')\n",
    "# 数据读取\n",
    "train_data = pd.read_csv('E:/Loan/train.csv')\n",
    "test_data = pd.read_csv('E:/Loan/testA.csv')"
   ]
  },
  {
   "cell_type": "code",
   "execution_count": 2,
   "metadata": {},
   "outputs": [],
   "source": [
    "# 标签\n",
    "label = train_data[\"isDefault\"]"
   ]
  },
  {
   "cell_type": "code",
   "execution_count": 3,
   "metadata": {},
   "outputs": [],
   "source": [
    "# 将训练集和测试集进行连接\n",
    "data = pd.concat([train_data, test_data], axis=0, ignore_index=True)"
   ]
  },
  {
   "cell_type": "code",
   "execution_count": 4,
   "metadata": {},
   "outputs": [
    {
     "name": "stdout",
     "output_type": "stream",
     "text": [
      "\n"
     ]
    }
   ],
   "source": [
    "\"\"\"\n",
    "id\t为贷款清单分配的唯一信用证标识\n",
    "loanAmnt\t贷款金额    ----连续变量，直接使用\n",
    "term\t贷款期限（year） ----离散变量，直接使用\n",
    "interestRate\t贷款利率 ----连续型变量，直接使用\n",
    "installment\t分期付款金额   ----连续型变量，直接使用\n",
    "grade\t贷款等级    ----有优先级的，用labelEncode编码\n",
    "subGrade\t贷款等级之子级  ----有优先级的，用labelEncode编码\n",
    "employmentTitle\t就业职称   ----类别特征，但是有29W种，使用labelEncode编码(暂时不用)\n",
    "employmentLength\t就业年限（年）   ----转换成0-10的int类型\n",
    "homeOwnership\t借款人在登记时提供的房屋所有权状况  ----离散变量，直接使用\n",
    "annualIncome\t年收入 ----连续型变量，直接使用\n",
    "verificationStatus\t验证状态  ----离散型变量，直接使用\n",
    "issueDate\t贷款发放的月份   ----提取时间特征\n",
    "purpose\t借款人在贷款申请时的贷款用途类别  ----类别特征，无优先级，onehot\n",
    "postCode\t借款人在贷款申请中提供的邮政编码的前3位数字  ----类别特征，无优先级，onehot(暂时不用)\n",
    "regionCode\t地区编码  ----类别特征，无优先级，onehot\n",
    "dti\t债务收入比   ----连续型特征，直接使用\n",
    "delinquency_2years\t借款人过去2年信用档案中逾期30天以上的违约事件数   ----连续型特征，直接使用\n",
    "ficoRangeLow\t借款人在贷款发放时的fico所属的下限范围  ----连续型变量\n",
    "ficoRangeHigh\t借款人在贷款发放时的fico所属的上限范围  ----连续型变量--可以提取平均值特征\n",
    "openAcc\t借款人信用档案中未结信用额度的数量   ----连续特征，直接使用\n",
    "pubRec\t贬损公共记录的数量 -----连续特征，直接使用\n",
    "pubRecBankruptcies\t公开记录清除的数量  ----连续特征，直接使用\n",
    "revolBal\t信贷周转余额合计    ----连续特征，直接使用\n",
    "revolUtil\t循环额度利用率，或借款人使用的相对于所有可用循环信贷的信贷金额  ----连续特征，直接使用\n",
    "totalAcc\t借款人信用档案中当前的信用额度总数 ----连续特征，直接使用\n",
    "initialListStatus\t贷款的初始列表状态   ----离散型变量，直接使用\n",
    "applicationType\t表明贷款是个人申请还是与两个共同借款人的联合申请 ----离散型变量，直接使用\n",
    "earliesCreditLine\t借款人最早报告的信用额度开立的月份 ----提取年份和月份\n",
    "title\t借款人提供的贷款名称    ----暂时不用\n",
    "policyCode\t公开可用的策略_代码=1新产品不公开可用的策略_代码=2   ----全部为1无用特征\n",
    "n系列匿名特征\t匿名特征n0-n14，为一些贷款人行为计数特征的处理\n",
    "n11和n12相差悬殊暂时舍弃该特征\n",
    "其余特征为连续特征直接使用\n",
    "\"\"\"\n",
    "print()"
   ]
  },
  {
   "cell_type": "code",
   "execution_count": 5,
   "metadata": {},
   "outputs": [],
   "source": [
    "# 首先对employmentLength进行转换到数值（就业年限）\n",
    "data['employmentLength'].replace(to_replace='10+ years', value='10 years', inplace=True)\n",
    "data['employmentLength'].replace('< 1 year', '0 years', inplace=True)\n",
    "\n",
    "def employmentLength_to_int(s):\n",
    "    if pd.isnull(s):\n",
    "        return s\n",
    "    else:\n",
    "        return np.int8(s.split()[0])\n",
    "    \n",
    "data['employmentLength'] = data['employmentLength'].apply(employmentLength_to_int)"
   ]
  },
  {
   "cell_type": "code",
   "execution_count": 6,
   "metadata": {},
   "outputs": [],
   "source": [
    "# 对earliesCreditLine进行预处理取年份和月份，年份直接使用int类型，月份转换成one-hot编码\n",
    "data['year'] = data['earliesCreditLine'].apply(lambda s: int(s[-4:]))\n",
    "data['month'] = data['earliesCreditLine'].apply(lambda x: str(x[0:3]))"
   ]
  },
  {
   "cell_type": "code",
   "execution_count": 7,
   "metadata": {},
   "outputs": [
    {
     "name": "stdout",
     "output_type": "stream",
     "text": [
      "grade 类型数： 7\n",
      "subGrade 类型数： 35\n",
      "employmentTitle 类型数： 298101\n",
      "homeOwnership 类型数： 6\n",
      "verificationStatus 类型数： 3\n",
      "purpose 类型数： 14\n",
      "postCode 类型数： 935\n",
      "regionCode 类型数： 51\n",
      "applicationType 类型数： 2\n",
      "initialListStatus 类型数： 2\n",
      "title 类型数： 47903\n"
     ]
    }
   ],
   "source": [
    "# 部分类别特征\n",
    "cate_features = ['grade', 'subGrade', 'employmentTitle', 'homeOwnership', 'verificationStatus', 'purpose', 'postCode', 'regionCode', 'applicationType', 'initialListStatus', 'title']\n",
    "\n",
    "for f in cate_features:\n",
    "    print(f, '类型数：', data[f].nunique())"
   ]
  },
  {
   "cell_type": "code",
   "execution_count": 8,
   "metadata": {},
   "outputs": [],
   "source": [
    "# grade = dict(zip(sorted(list(set(data['grade']))),range(0,len(set(data['grade'])))))\n",
    "# data['grade_id'] = data['grade'].map(grade)\n",
    "\n",
    "# sub_grade = dict(zip(sorted(list(set(data['subGrade']))),range(0,len(set(data['subGrade'])))))\n",
    "# data['subgrade_id'] = data['subGrade'].map(sub_grade)"
   ]
  },
  {
   "cell_type": "code",
   "execution_count": 9,
   "metadata": {},
   "outputs": [],
   "source": [
    "# 类型数在2之上，又不是高维稀疏的转换成one-hot编码\n",
    "data = pd.get_dummies(data, columns=['homeOwnership', 'verificationStatus', 'purpose', 'regionCode', 'month'], drop_first=True)"
   ]
  },
  {
   "cell_type": "code",
   "execution_count": 10,
   "metadata": {},
   "outputs": [
    {
     "name": "stderr",
     "output_type": "stream",
     "text": [
      "100%|████████████████████████████████████████████████████████████████████████████████████| 5/5 [00:06<00:00,  1.34s/it]"
     ]
    },
    {
     "name": "stdout",
     "output_type": "stream",
     "text": [
      "Label Encoding 完成\n"
     ]
    },
    {
     "name": "stderr",
     "output_type": "stream",
     "text": [
      "\n"
     ]
    }
   ],
   "source": [
    "# （labelEncode）\n",
    "for col in tqdm(['grade', 'subGrade', 'employmentTitle', 'postCode', 'title']):\n",
    "    le = LabelEncoder()\n",
    "    le.fit(list(data[col].astype(str).values))\n",
    "    data[col] = le.transform(list(data[col].astype(str).values))\n",
    "print('Label Encoding 完成')"
   ]
  },
  {
   "cell_type": "code",
   "execution_count": 11,
   "metadata": {},
   "outputs": [],
   "source": [
    "#转化成时间格式\n",
    "for data in [data]:\n",
    "    data['issueDate'] = pd.to_datetime(data['issueDate'],format='%Y-%m-%d')\n",
    "    startdate = datetime.datetime.strptime('2007-06-01', '%Y-%m-%d')\n",
    "    #构造时间特征\n",
    "    data['issueDateDT'] = data['issueDate'].apply(lambda x: x-startdate).dt.days"
   ]
  },
  {
   "cell_type": "code",
   "execution_count": 12,
   "metadata": {},
   "outputs": [],
   "source": [
    "# fico特征\n",
    "data[\"ficoRangeAve\"] = data[\"ficoRangeLow\"] + (data[\"ficoRangeHigh\"] - data[\"ficoRangeLow\"])/2"
   ]
  },
  {
   "cell_type": "code",
   "execution_count": 13,
   "metadata": {},
   "outputs": [],
   "source": [
    "# 年利息\n",
    "data['allmoney'] = list(map(lambda x,y:x*y,data['loanAmnt'],\n",
    "                                data['interestRate']/100))"
   ]
  },
  {
   "cell_type": "code",
   "execution_count": 14,
   "metadata": {},
   "outputs": [],
   "source": [
    "# 年利息/年收入 \n",
    "data['howlong_return'] = data['allmoney'].values / data['annualIncome']"
   ]
  },
  {
   "cell_type": "code",
   "execution_count": 15,
   "metadata": {},
   "outputs": [],
   "source": [
    "# 月收入\n",
    "data['monthincome'] = data['annualIncome']/12"
   ]
  },
  {
   "cell_type": "code",
   "execution_count": 16,
   "metadata": {},
   "outputs": [],
   "source": [
    "# 年收入为0的标记为0，不为0的标记为1\n",
    "data['annualIncome_is_0'] = list(map(lambda x,y:1 if x>y else 0,\n",
    "                                            data['annualIncome'],data['monthincome']))"
   ]
  },
  {
   "cell_type": "code",
   "execution_count": 17,
   "metadata": {},
   "outputs": [],
   "source": [
    "# 年收入占贷款金额的比重\n",
    "data[\"loanAmnt_annuallncome_rate\"] = data[\"loanAmnt\"] / data[\"annualIncome\"]"
   ]
  },
  {
   "cell_type": "code",
   "execution_count": 18,
   "metadata": {},
   "outputs": [],
   "source": [
    "for col in ['grade', 'subGrade']: \n",
    "    temp_dict = data.groupby([col])['isDefault'].agg(['mean']).reset_index().rename(columns={'mean': col + '_target_mean'})\n",
    "    temp_dict.index = temp_dict[col].values\n",
    "    temp_dict = temp_dict[col + '_target_mean'].to_dict()\n",
    "\n",
    "    data[col + '_target_mean'] = data[col].map(temp_dict)"
   ]
  },
  {
   "cell_type": "code",
   "execution_count": 19,
   "metadata": {},
   "outputs": [],
   "source": [
    "for col in ['grade', 'subGrade']: \n",
    "    temp_dict = data.groupby([col])['isDefault'].agg(['std']).reset_index().rename(columns={'std': col + '_target_std'})\n",
    "    temp_dict.index = temp_dict[col].values\n",
    "    temp_dict = temp_dict[col + '_target_std'].to_dict()\n",
    "\n",
    "    data[col + '_target_std'] = data[col].map(temp_dict)"
   ]
  },
  {
   "cell_type": "code",
   "execution_count": 20,
   "metadata": {},
   "outputs": [],
   "source": [
    "data = data.drop([\"id\",\"issueDate\", \"earliesCreditLine\"],axis=1)"
   ]
  },
  {
   "cell_type": "code",
   "execution_count": 21,
   "metadata": {},
   "outputs": [
    {
     "data": {
      "text/html": [
       "<div>\n",
       "<style scoped>\n",
       "    .dataframe tbody tr th:only-of-type {\n",
       "        vertical-align: middle;\n",
       "    }\n",
       "\n",
       "    .dataframe tbody tr th {\n",
       "        vertical-align: top;\n",
       "    }\n",
       "\n",
       "    .dataframe thead th {\n",
       "        text-align: right;\n",
       "    }\n",
       "</style>\n",
       "<table border=\"1\" class=\"dataframe\">\n",
       "  <thead>\n",
       "    <tr style=\"text-align: right;\">\n",
       "      <th></th>\n",
       "      <th>loanAmnt</th>\n",
       "      <th>term</th>\n",
       "      <th>interestRate</th>\n",
       "      <th>installment</th>\n",
       "      <th>grade</th>\n",
       "      <th>subGrade</th>\n",
       "      <th>employmentTitle</th>\n",
       "      <th>employmentLength</th>\n",
       "      <th>annualIncome</th>\n",
       "      <th>isDefault</th>\n",
       "      <th>...</th>\n",
       "      <th>ficoRangeAve</th>\n",
       "      <th>allmoney</th>\n",
       "      <th>howlong_return</th>\n",
       "      <th>monthincome</th>\n",
       "      <th>annualIncome_is_0</th>\n",
       "      <th>loanAmnt_annuallncome_rate</th>\n",
       "      <th>grade_target_mean</th>\n",
       "      <th>subGrade_target_mean</th>\n",
       "      <th>grade_target_std</th>\n",
       "      <th>subGrade_target_std</th>\n",
       "    </tr>\n",
       "  </thead>\n",
       "  <tbody>\n",
       "    <tr>\n",
       "      <th>0</th>\n",
       "      <td>35000.0</td>\n",
       "      <td>5</td>\n",
       "      <td>19.52</td>\n",
       "      <td>917.97</td>\n",
       "      <td>4</td>\n",
       "      <td>21</td>\n",
       "      <td>192025</td>\n",
       "      <td>2.0</td>\n",
       "      <td>110000.0</td>\n",
       "      <td>1.0</td>\n",
       "      <td>...</td>\n",
       "      <td>732.0</td>\n",
       "      <td>6832.0</td>\n",
       "      <td>0.062109</td>\n",
       "      <td>9166.666667</td>\n",
       "      <td>1</td>\n",
       "      <td>0.318182</td>\n",
       "      <td>0.384291</td>\n",
       "      <td>0.376903</td>\n",
       "      <td>0.486431</td>\n",
       "      <td>0.484629</td>\n",
       "    </tr>\n",
       "    <tr>\n",
       "      <th>1</th>\n",
       "      <td>18000.0</td>\n",
       "      <td>5</td>\n",
       "      <td>18.49</td>\n",
       "      <td>461.90</td>\n",
       "      <td>3</td>\n",
       "      <td>16</td>\n",
       "      <td>104733</td>\n",
       "      <td>5.0</td>\n",
       "      <td>46000.0</td>\n",
       "      <td>0.0</td>\n",
       "      <td>...</td>\n",
       "      <td>702.0</td>\n",
       "      <td>3328.2</td>\n",
       "      <td>0.072352</td>\n",
       "      <td>3833.333333</td>\n",
       "      <td>1</td>\n",
       "      <td>0.391304</td>\n",
       "      <td>0.303852</td>\n",
       "      <td>0.297572</td>\n",
       "      <td>0.459921</td>\n",
       "      <td>0.457199</td>\n",
       "    </tr>\n",
       "    <tr>\n",
       "      <th>2</th>\n",
       "      <td>12000.0</td>\n",
       "      <td>5</td>\n",
       "      <td>16.99</td>\n",
       "      <td>298.17</td>\n",
       "      <td>3</td>\n",
       "      <td>17</td>\n",
       "      <td>189509</td>\n",
       "      <td>8.0</td>\n",
       "      <td>74000.0</td>\n",
       "      <td>0.0</td>\n",
       "      <td>...</td>\n",
       "      <td>677.0</td>\n",
       "      <td>2038.8</td>\n",
       "      <td>0.027551</td>\n",
       "      <td>6166.666667</td>\n",
       "      <td>1</td>\n",
       "      <td>0.162162</td>\n",
       "      <td>0.303852</td>\n",
       "      <td>0.304015</td>\n",
       "      <td>0.459921</td>\n",
       "      <td>0.459999</td>\n",
       "    </tr>\n",
       "    <tr>\n",
       "      <th>3</th>\n",
       "      <td>11000.0</td>\n",
       "      <td>3</td>\n",
       "      <td>7.26</td>\n",
       "      <td>340.96</td>\n",
       "      <td>0</td>\n",
       "      <td>3</td>\n",
       "      <td>249631</td>\n",
       "      <td>10.0</td>\n",
       "      <td>118000.0</td>\n",
       "      <td>0.0</td>\n",
       "      <td>...</td>\n",
       "      <td>687.0</td>\n",
       "      <td>798.6</td>\n",
       "      <td>0.006768</td>\n",
       "      <td>9833.333333</td>\n",
       "      <td>1</td>\n",
       "      <td>0.093220</td>\n",
       "      <td>0.060375</td>\n",
       "      <td>0.067221</td>\n",
       "      <td>0.238181</td>\n",
       "      <td>0.250408</td>\n",
       "    </tr>\n",
       "    <tr>\n",
       "      <th>4</th>\n",
       "      <td>3000.0</td>\n",
       "      <td>3</td>\n",
       "      <td>12.99</td>\n",
       "      <td>101.07</td>\n",
       "      <td>2</td>\n",
       "      <td>11</td>\n",
       "      <td>256267</td>\n",
       "      <td>NaN</td>\n",
       "      <td>29000.0</td>\n",
       "      <td>0.0</td>\n",
       "      <td>...</td>\n",
       "      <td>692.0</td>\n",
       "      <td>389.7</td>\n",
       "      <td>0.013438</td>\n",
       "      <td>2416.666667</td>\n",
       "      <td>1</td>\n",
       "      <td>0.103448</td>\n",
       "      <td>0.225020</td>\n",
       "      <td>0.206892</td>\n",
       "      <td>0.417596</td>\n",
       "      <td>0.405082</td>\n",
       "    </tr>\n",
       "  </tbody>\n",
       "</table>\n",
       "<p>5 rows × 133 columns</p>\n",
       "</div>"
      ],
      "text/plain": [
       "   loanAmnt  term  interestRate  installment  grade  subGrade  \\\n",
       "0   35000.0     5         19.52       917.97      4        21   \n",
       "1   18000.0     5         18.49       461.90      3        16   \n",
       "2   12000.0     5         16.99       298.17      3        17   \n",
       "3   11000.0     3          7.26       340.96      0         3   \n",
       "4    3000.0     3         12.99       101.07      2        11   \n",
       "\n",
       "   employmentTitle  employmentLength  annualIncome  isDefault  ...  \\\n",
       "0           192025               2.0      110000.0        1.0  ...   \n",
       "1           104733               5.0       46000.0        0.0  ...   \n",
       "2           189509               8.0       74000.0        0.0  ...   \n",
       "3           249631              10.0      118000.0        0.0  ...   \n",
       "4           256267               NaN       29000.0        0.0  ...   \n",
       "\n",
       "   ficoRangeAve  allmoney  howlong_return  monthincome  annualIncome_is_0  \\\n",
       "0         732.0    6832.0        0.062109  9166.666667                  1   \n",
       "1         702.0    3328.2        0.072352  3833.333333                  1   \n",
       "2         677.0    2038.8        0.027551  6166.666667                  1   \n",
       "3         687.0     798.6        0.006768  9833.333333                  1   \n",
       "4         692.0     389.7        0.013438  2416.666667                  1   \n",
       "\n",
       "   loanAmnt_annuallncome_rate  grade_target_mean  subGrade_target_mean  \\\n",
       "0                    0.318182           0.384291              0.376903   \n",
       "1                    0.391304           0.303852              0.297572   \n",
       "2                    0.162162           0.303852              0.304015   \n",
       "3                    0.093220           0.060375              0.067221   \n",
       "4                    0.103448           0.225020              0.206892   \n",
       "\n",
       "   grade_target_std  subGrade_target_std  \n",
       "0          0.486431             0.484629  \n",
       "1          0.459921             0.457199  \n",
       "2          0.459921             0.459999  \n",
       "3          0.238181             0.250408  \n",
       "4          0.417596             0.405082  \n",
       "\n",
       "[5 rows x 133 columns]"
      ]
     },
     "execution_count": 21,
     "metadata": {},
     "output_type": "execute_result"
    }
   ],
   "source": [
    "data.head()"
   ]
  },
  {
   "cell_type": "code",
   "execution_count": 22,
   "metadata": {},
   "outputs": [],
   "source": [
    "# 提取一些排序特征\n",
    "data['issueDate_Rank'] = data[\"issueDateDT\"].rank()\n",
    "data['revolBal_Rank'] = data[\"revolBal\"].rank()\n",
    "data['dti_Rank'] = data[\"dti\"].rank()\n",
    "data['revolUtil_Rank'] = data[\"revolUtil\"].rank()\n",
    "data['employmentTitle_Rank'] = data[\"employmentTitle\"].rank()\n",
    "data['annualIncome_Rank'] = data[\"annualIncome\"].rank()\n",
    "data['postCode_Rank'] = data[\"postCode\"].rank()\n",
    "data['year_Rank'] = data[\"year\"].rank()\n",
    "data['loanAmnt_annuallncome_rate_Rank'] = data[\"loanAmnt_annuallncome_rate\"].rank()\n",
    "data['interestRate_Rank'] = data[\"interestRate\"].rank()\n",
    "data['howlong_return_Rank'] = data[\"howlong_return\"].rank()\n",
    "data['installment_Rank'] = data[\"installment\"].rank()\n",
    "data['employmentLength_Rank'] = data[\"employmentLength\"].rank()\n",
    "data['loanAmnt_Rank'] = data[\"loanAmnt\"].rank()\n",
    "data['n6_Rank'] = data[\"n6\"].rank()"
   ]
  },
  {
   "cell_type": "code",
   "execution_count": 23,
   "metadata": {},
   "outputs": [],
   "source": [
    "train = data[data.isDefault.notnull()].reset_index(drop=True)\n",
    "test = data[data.isDefault.isnull()].reset_index(drop=True)\n",
    "\n",
    "train = train.drop([\"isDefault\"], axis=1)\n",
    "test = test.drop([\"isDefault\"], axis=1)"
   ]
  },
  {
   "cell_type": "code",
   "execution_count": 24,
   "metadata": {},
   "outputs": [],
   "source": [
    "def cv_model(clf, train_x, train_y, test_x, clf_name):\n",
    "    folds = 5\n",
    "    seed = 1108\n",
    "    kf = KFold(n_splits=folds, shuffle=True, random_state=seed)\n",
    "\n",
    "    train = np.zeros(train_x.shape[0])\n",
    "    test_pred = np.zeros(test_x.shape[0])\n",
    "    importance = np.zeros(train_x.columns.shape[0])\n",
    "    \n",
    "    cv_scores = []\n",
    "    feature_names = train_x.columns.tolist()\n",
    "    for i, (train_index, valid_index) in enumerate(kf.split(train_x, train_y)):\n",
    "        print('************************************ {} ************************************'.format(str(i+1)))\n",
    "        trn_x, trn_y, val_x, val_y = train_x.iloc[train_index], train_y[train_index], train_x.iloc[valid_index], train_y[valid_index]\n",
    "\n",
    "        if clf_name == \"lgb\":\n",
    "            train_matrix = clf.Dataset(trn_x, label=trn_y)\n",
    "            valid_matrix = clf.Dataset(val_x, label=val_y)\n",
    "\n",
    "            params = {\n",
    "                'boosting_type': 'gbdt',\n",
    "                'objective': 'binary',\n",
    "                'metric': 'auc',\n",
    "                'min_child_weight': 5,\n",
    "                'num_leaves': 2 ** 5,\n",
    "                'lambda_l2': 10,\n",
    "                'tree_method':'gpu_hist',\n",
    "                'feature_fraction': 0.8,\n",
    "                'bagging_fraction': 0.8,\n",
    "                'bagging_freq': 4,\n",
    "                'learning_rate': 0.05,\n",
    "                'seed': 2020,\n",
    "                'nthread': 28,\n",
    "                'n_jobs':24,\n",
    "                'silent': True,\n",
    "                'verbose': -1,\n",
    "            }\n",
    "\n",
    "            model = clf.train(params, train_matrix, 50000, valid_sets=[train_matrix, valid_matrix], verbose_eval=200,early_stopping_rounds=200)\n",
    "            \n",
    "            val_pred = model.predict(val_x, num_iteration=model.best_iteration)\n",
    "            test_pred = model.predict(test_x, num_iteration=model.best_iteration)\n",
    "            \n",
    "                \n",
    "        if clf_name == \"xgb\":\n",
    "            train_matrix = clf.DMatrix(trn_x , label=trn_y)\n",
    "            valid_matrix = clf.DMatrix(val_x , label=val_y)\n",
    "            test_matrix = clf.DMatrix(test_x)\n",
    "            \n",
    "            params = {'booster': 'gbtree',\n",
    "                      'objective': 'binary:logistic',\n",
    "                      'eval_metric': 'auc',\n",
    "                      'gamma': 1,\n",
    "                      'min_child_weight': 1.5,\n",
    "                      'max_depth': 5,\n",
    "                      'lambda': 10,\n",
    "                      'subsample': 0.7,\n",
    "                      'tree_method':'gpu_hist',\n",
    "                      'colsample_bytree': 0.7,\n",
    "                      'colsample_bylevel': 0.7,\n",
    "                      'eta': 0.04,\n",
    "                      'tree_method': 'exact',\n",
    "                      'seed': 2020,\n",
    "                      'nthread': 36,\n",
    "                      \"silent\": True,\n",
    "                      }\n",
    "            \n",
    "            watchlist = [(train_matrix, 'train'),(valid_matrix, 'eval')]\n",
    "            \n",
    "            model = clf.train(params, train_matrix, num_boost_round=50000, evals=watchlist, verbose_eval=200, early_stopping_rounds=200)\n",
    "            val_pred  = model.predict(valid_matrix, ntree_limit=model.best_ntree_limit)\n",
    "            test_pred = model.predict(test_matrix , ntree_limit=model.best_ntree_limit)\n",
    "                 \n",
    "        if clf_name == \"cat\":\n",
    "            params = {'learning_rate': 0.05, 'depth': 5, 'l2_leaf_reg': 10, 'bootstrap_type': 'Bernoulli',\n",
    "                      'od_type': 'Iter', 'od_wait': 50, 'random_seed': 11, 'allow_writing_files': False}\n",
    "            \n",
    "            model = clf(iterations=20000, **params)\n",
    "            model.fit(trn_x, trn_y, eval_set=(val_x, val_y),\n",
    "                      cat_features=[], use_best_model=True, verbose=500)\n",
    "            \n",
    "            val_pred  = model.predict(val_x)\n",
    "            test_pred = model.predict(test_x)\n",
    "            \n",
    "            \n",
    "        # importance += model.feature_importance() / 5\n",
    "        \n",
    "        train[valid_index] = val_pred\n",
    "        test = test_pred / kf.n_splits\n",
    "        cv_scores.append(roc_auc_score(val_y, val_pred))\n",
    "        \n",
    "        print(cv_scores)\n",
    "    \n",
    "    # df = pd.DataFrame({ 'column': feature_names, 'importance': importance}).sort_values(by='importance')           \n",
    "    # df.to_csv(\"./importance.csv\")\n",
    "    print(\"%s_scotrainre_list:\" % clf_name, cv_scores)\n",
    "    print(\"%s_score_mean:\" % clf_name, np.mean(cv_scores))\n",
    "    print(\"%s_score_std:\" % clf_name, np.std(cv_scores))\n",
    "    return test\n",
    "\n",
    "def lgb_model(x_train, y_train, x_test):\n",
    "    lgb_test = cv_model(lgb, x_train, y_train, x_test, \"lgb\")\n",
    "    return lgb_test\n",
    "\n",
    "def xgb_model(x_train, y_train, x_test):\n",
    "    xgb_test = cv_model(xgb, x_train, y_train, x_test, \"xgb\")\n",
    "    return xgb_test\n",
    "\n",
    "def cat_model(x_train, y_train, x_test):\n",
    "    cat_test = cv_model(CatBoostRegressor, x_train, y_train, x_test, \"cat\")\n",
    "    return cat_test"
   ]
  },
  {
   "cell_type": "code",
   "execution_count": 25,
   "metadata": {},
   "outputs": [
    {
     "name": "stdout",
     "output_type": "stream",
     "text": [
      "************************************ 1 ************************************\n",
      "[17:45:27] WARNING: C:\\Users\\Administrator\\workspace\\xgboost-win64_release_1.1.0\\src\\learner.cc:480: \n",
      "Parameters: { silent } might not be used.\n",
      "\n",
      "  This may not be accurate due to some parameters are only used in language bindings but\n",
      "  passed down to XGBoost core.  Or some parameters are not used but slip through this\n",
      "  verification. Please open an issue if you find above cases.\n",
      "\n",
      "\n",
      "[0]\ttrain-auc:0.70117\teval-auc:0.70015\n",
      "Multiple eval metrics have been passed: 'eval-auc' will be used for early stopping.\n",
      "\n",
      "Will train until eval-auc hasn't improved in 200 rounds.\n",
      "[200]\ttrain-auc:0.73376\teval-auc:0.72834\n",
      "[400]\ttrain-auc:0.74153\teval-auc:0.73233\n",
      "[600]\ttrain-auc:0.74701\teval-auc:0.73422\n",
      "[800]\ttrain-auc:0.75160\teval-auc:0.73518\n",
      "[1000]\ttrain-auc:0.75526\teval-auc:0.73576\n",
      "[1200]\ttrain-auc:0.75881\teval-auc:0.73628\n",
      "[1400]\ttrain-auc:0.76214\teval-auc:0.73658\n",
      "[1600]\ttrain-auc:0.76531\teval-auc:0.73689\n",
      "[1800]\ttrain-auc:0.76842\teval-auc:0.73705\n",
      "[2000]\ttrain-auc:0.77138\teval-auc:0.73717\n",
      "[2200]\ttrain-auc:0.77435\teval-auc:0.73716\n",
      "[2400]\ttrain-auc:0.77716\teval-auc:0.73724\n",
      "Stopping. Best iteration:\n",
      "[2351]\ttrain-auc:0.77645\teval-auc:0.73727\n",
      "\n"
     ]
    },
    {
     "ename": "AttributeError",
     "evalue": "'Booster' object has no attribute 'feature_importance'",
     "output_type": "error",
     "traceback": [
      "\u001b[1;31m---------------------------------------------------------------------------\u001b[0m",
      "\u001b[1;31mAttributeError\u001b[0m                            Traceback (most recent call last)",
      "\u001b[1;32m<ipython-input-25-0bf409cea6cb>\u001b[0m in \u001b[0;36m<module>\u001b[1;34m\u001b[0m\n\u001b[1;32m----> 1\u001b[1;33m \u001b[0mxgb_test\u001b[0m \u001b[1;33m=\u001b[0m \u001b[0mxgb_model\u001b[0m\u001b[1;33m(\u001b[0m\u001b[0mtrain\u001b[0m\u001b[1;33m,\u001b[0m \u001b[0mlabel\u001b[0m\u001b[1;33m,\u001b[0m \u001b[0mtest\u001b[0m\u001b[1;33m)\u001b[0m\u001b[1;33m\u001b[0m\u001b[1;33m\u001b[0m\u001b[0m\n\u001b[0m",
      "\u001b[1;32m<ipython-input-24-5c48d714f002>\u001b[0m in \u001b[0;36mxgb_model\u001b[1;34m(x_train, y_train, x_test)\u001b[0m\n\u001b[0;32m    104\u001b[0m \u001b[1;33m\u001b[0m\u001b[0m\n\u001b[0;32m    105\u001b[0m \u001b[1;32mdef\u001b[0m \u001b[0mxgb_model\u001b[0m\u001b[1;33m(\u001b[0m\u001b[0mx_train\u001b[0m\u001b[1;33m,\u001b[0m \u001b[0my_train\u001b[0m\u001b[1;33m,\u001b[0m \u001b[0mx_test\u001b[0m\u001b[1;33m)\u001b[0m\u001b[1;33m:\u001b[0m\u001b[1;33m\u001b[0m\u001b[1;33m\u001b[0m\u001b[0m\n\u001b[1;32m--> 106\u001b[1;33m     \u001b[0mxgb_test\u001b[0m \u001b[1;33m=\u001b[0m \u001b[0mcv_model\u001b[0m\u001b[1;33m(\u001b[0m\u001b[0mxgb\u001b[0m\u001b[1;33m,\u001b[0m \u001b[0mx_train\u001b[0m\u001b[1;33m,\u001b[0m \u001b[0my_train\u001b[0m\u001b[1;33m,\u001b[0m \u001b[0mx_test\u001b[0m\u001b[1;33m,\u001b[0m \u001b[1;34m\"xgb\"\u001b[0m\u001b[1;33m)\u001b[0m\u001b[1;33m\u001b[0m\u001b[1;33m\u001b[0m\u001b[0m\n\u001b[0m\u001b[0;32m    107\u001b[0m     \u001b[1;32mreturn\u001b[0m \u001b[0mxgb_test\u001b[0m\u001b[1;33m\u001b[0m\u001b[1;33m\u001b[0m\u001b[0m\n\u001b[0;32m    108\u001b[0m \u001b[1;33m\u001b[0m\u001b[0m\n",
      "\u001b[1;32m<ipython-input-24-5c48d714f002>\u001b[0m in \u001b[0;36mcv_model\u001b[1;34m(clf, train_x, train_y, test_x, clf_name)\u001b[0m\n\u001b[0;32m     84\u001b[0m \u001b[1;33m\u001b[0m\u001b[0m\n\u001b[0;32m     85\u001b[0m \u001b[1;33m\u001b[0m\u001b[0m\n\u001b[1;32m---> 86\u001b[1;33m         \u001b[0mimportance\u001b[0m \u001b[1;33m+=\u001b[0m \u001b[0mmodel\u001b[0m\u001b[1;33m.\u001b[0m\u001b[0mfeature_importance\u001b[0m\u001b[1;33m(\u001b[0m\u001b[1;33m)\u001b[0m \u001b[1;33m/\u001b[0m \u001b[1;36m5\u001b[0m\u001b[1;33m\u001b[0m\u001b[1;33m\u001b[0m\u001b[0m\n\u001b[0m\u001b[0;32m     87\u001b[0m \u001b[1;33m\u001b[0m\u001b[0m\n\u001b[0;32m     88\u001b[0m         \u001b[0mtrain\u001b[0m\u001b[1;33m[\u001b[0m\u001b[0mvalid_index\u001b[0m\u001b[1;33m]\u001b[0m \u001b[1;33m=\u001b[0m \u001b[0mval_pred\u001b[0m\u001b[1;33m\u001b[0m\u001b[1;33m\u001b[0m\u001b[0m\n",
      "\u001b[1;31mAttributeError\u001b[0m: 'Booster' object has no attribute 'feature_importance'"
     ]
    }
   ],
   "source": [
    "xgb_test = xgb_model(train, label, test)"
   ]
  },
  {
   "cell_type": "code",
   "execution_count": null,
   "metadata": {},
   "outputs": [],
   "source": [
    "lgb_test = lgb_model(train, label, test)"
   ]
  },
  {
   "cell_type": "code",
   "execution_count": null,
   "metadata": {},
   "outputs": [],
   "source": [
    "cat_test = cat_model(train, label, test)"
   ]
  },
  {
   "cell_type": "code",
   "execution_count": null,
   "metadata": {},
   "outputs": [],
   "source": [
    "print(xgb_test.sum())"
   ]
  },
  {
   "cell_type": "code",
   "execution_count": null,
   "metadata": {},
   "outputs": [],
   "source": [
    "print(lgb_test.sum())"
   ]
  },
  {
   "cell_type": "code",
   "execution_count": null,
   "metadata": {},
   "outputs": [],
   "source": [
    "print(cat_test.sum())"
   ]
  },
  {
   "cell_type": "code",
   "execution_count": null,
   "metadata": {},
   "outputs": [],
   "source": [
    "# 0.7355\n",
    "rh_test = lgb_test*0.3 + xgb_test*0.4 + cat_test*0.3\n",
    "test_data['isDefault'] = rh_test\n",
    "test_data[['id','isDefault']].to_csv('test_sub.csv', index=False)"
   ]
  },
  {
   "cell_type": "code",
   "execution_count": null,
   "metadata": {},
   "outputs": [],
   "source": [
    "# test_data['isDefault'] = lgb_test\n",
    "# test_data[['id','isDefault']].to_csv('test_sub.csv', index=False)"
   ]
  },
  {
   "cell_type": "code",
   "execution_count": null,
   "metadata": {},
   "outputs": [],
   "source": []
  }
 ],
 "metadata": {
  "kernelspec": {
   "display_name": "Python 3",
   "language": "python",
   "name": "python3"
  },
  "language_info": {
   "codemirror_mode": {
    "name": "ipython",
    "version": 3
   },
   "file_extension": ".py",
   "mimetype": "text/x-python",
   "name": "python",
   "nbconvert_exporter": "python",
   "pygments_lexer": "ipython3",
   "version": "3.7.6"
  }
 },
 "nbformat": 4,
 "nbformat_minor": 4
}
